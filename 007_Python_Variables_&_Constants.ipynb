{
 "cells": [
  {
   "cell_type": "markdown",
   "metadata": {},
   "source": [
    "<small><small><i>\n",
    "All the IPython Notebooks in **Python Introduction** lecture series by Dr. Milaan Parmar are available @ **[GitHub](https://github.com/milaan9/01_Python_Introduction)**\n",
    "</i></small></small>"
   ]
  },
  {
   "cell_type": "markdown",
   "metadata": {},
   "source": [
    "# Python Variables and Constants\n",
    "\n",
    "In this class, you will learn about Python variables, constants, literals and their use cases."
   ]
  },
  {
   "cell_type": "markdown",
   "metadata": {},
   "source": [
    "# 1. Python Variables\n",
    "\n",
    "A variable is a named location used to **store data in the memory**. Variable also known as **identifier** and used to hold value. It is helpful to think of variables as a container that holds data that can be changed later in the program. For example,\n",
    "\n",
    "```python\n",
    ">>>number = 90\n",
    "```\n",
    "\n",
    "Here, we have created a variable named **`number`**. We have assigned the value **`10`** to the variable.\n",
    "\n",
    "You can think of variables as a bag to store books in it and that book can be replaced at any time.\n",
    "\n",
    "```python\n",
    ">>>number = 90\n",
    ">>>number = 9.1\n",
    "```\n",
    "\n",
    "Initially, the value of number was **`90`**. Later, it was changed to **`9.1`**.\n",
    "\n",
    "> **Note**: In Python, we don't actually assign values to the variables. Instead, Python gives the reference of the object(value) to the variable.\n",
    "\n",
    "In Python, we don't need to specify the type of variable because Python is a **type infer language** and smart enough to get variable type. \n",
    "\n",
    "**Variable** names can be a group of both **letters** and **digits**, but they have to begin with a letter or an underscore.It is recomended to use lowercase letters for variable name. **`Variable`** and **`variable`** both are **two different variables**."
   ]
  },
  {
   "cell_type": "markdown",
   "metadata": {},
   "source": [
    "### Assigning values to Variables in Python\n",
    "\n",
    "Think of a variable as a name attached to a particular object. In Python, variables need not be declared or defined in advance, as is the case in many other programming languages. \n",
    "\n",
    "As you can see from the above example, you can use the assignment operator **`=`** to assign a value to a variable."
   ]
  },
  {
   "cell_type": "markdown",
   "metadata": {},
   "source": [
    "#### Example 1: Declaring and assigning value to a variable"
   ]
  },
  {
   "cell_type": "code",
   "execution_count": 1,
   "metadata": {
    "ExecuteTime": {
     "end_time": "2021-06-22T15:11:39.569376Z",
     "start_time": "2021-06-22T15:11:39.549842Z"
    }
   },
   "outputs": [
    {
     "data": {
      "text/plain": [
       "9.1"
      ]
     },
     "execution_count": 1,
     "metadata": {},
     "output_type": "execute_result"
    }
   ],
   "source": [
    "number = 90\n",
    "number = 9.1\n",
    "number"
   ]
  },
  {
   "cell_type": "code",
   "execution_count": 2,
   "metadata": {
    "ExecuteTime": {
     "end_time": "2021-06-22T15:11:40.894686Z",
     "start_time": "2021-06-22T15:11:40.884922Z"
    }
   },
   "outputs": [
    {
     "name": "stdout",
     "output_type": "stream",
     "text": [
      "github.com\n"
     ]
    }
   ],
   "source": [
    "website = \"github.com\"  # website is my variable and github.com is characters\n",
    "print(website)"
   ]
  },
  {
   "cell_type": "markdown",
   "metadata": {},
   "source": [
    "In the above program, we assigned a value **`github.com`** to the variable **`website`**. Then, we printed out the value assigned to **`website`** i.e. **`github.com`**.\n",
    "\n",
    "> **Note**: Python is a **[type-inferred](https://en.wikipedia.org/wiki/Type_inference)** language, so you don't have to explicitly define the variable type. It automatically knows that **`github.com`** is a string and declares the **`website`** variable as a string."
   ]
  },
  {
   "cell_type": "markdown",
   "metadata": {},
   "source": [
    "#### Example 2: Changing the value of a variable"
   ]
  },
  {
   "cell_type": "code",
   "execution_count": 3,
   "metadata": {
    "ExecuteTime": {
     "end_time": "2021-06-22T15:12:17.281408Z",
     "start_time": "2021-06-22T15:12:17.265787Z"
    }
   },
   "outputs": [
    {
     "name": "stdout",
     "output_type": "stream",
     "text": [
      "github.com\n",
      "baidu.com\n"
     ]
    }
   ],
   "source": [
    "website = \"github.com\"\n",
    "print(website)\n",
    "\n",
    "# assigning a new variable to website\n",
    "website = \"baidu.com\"\n",
    "\n",
    "print(website)"
   ]
  },
  {
   "cell_type": "markdown",
   "metadata": {},
   "source": [
    "In the above program, we have assigned **`github.com`** to the **`website`** variable initially. Then, the value is changed to **`baidu.com`**."
   ]
  },
  {
   "cell_type": "code",
   "execution_count": 4,
   "metadata": {
    "ExecuteTime": {
     "end_time": "2021-06-22T15:13:02.868237Z",
     "start_time": "2021-06-22T15:13:02.847730Z"
    },
    "scrolled": true
   },
   "outputs": [
    {
     "name": "stdout",
     "output_type": "stream",
     "text": [
      "300\n"
     ]
    }
   ],
   "source": [
    "n=300\n",
    "print(n)"
   ]
  },
  {
   "cell_type": "code",
   "execution_count": 5,
   "metadata": {
    "ExecuteTime": {
     "end_time": "2021-06-22T15:13:03.672975Z",
     "start_time": "2021-06-22T15:13:03.654423Z"
    }
   },
   "outputs": [
    {
     "name": "stdout",
     "output_type": "stream",
     "text": [
      "300\n",
      "1000\n"
     ]
    }
   ],
   "source": [
    "print(n)\n",
    "\n",
    "n = 1000   # assigning a new value to n\n",
    "print(n)"
   ]
  },
  {
   "cell_type": "code",
   "execution_count": 6,
   "metadata": {
    "ExecuteTime": {
     "end_time": "2021-06-22T15:13:16.579544Z",
     "start_time": "2021-06-22T15:13:16.568803Z"
    }
   },
   "outputs": [
    {
     "name": "stdout",
     "output_type": "stream",
     "text": [
      "10\n"
     ]
    }
   ],
   "source": [
    "# Declare & Redeclare variables\n",
    "m = \"Python is Fun\"\n",
    "m = 10\n",
    "print (m)"
   ]
  },
  {
   "cell_type": "markdown",
   "metadata": {},
   "source": [
    "#### Example 3: Assigning multiple values to multiple variables"
   ]
  },
  {
   "cell_type": "code",
   "execution_count": 7,
   "metadata": {
    "ExecuteTime": {
     "end_time": "2021-06-22T15:13:22.066701Z",
     "start_time": "2021-06-22T15:13:22.048149Z"
    }
   },
   "outputs": [
    {
     "name": "stdout",
     "output_type": "stream",
     "text": [
      "6\n",
      "9.3\n",
      "Hello\n"
     ]
    }
   ],
   "source": [
    "a, b, c = 6, 9.3, \"Hello\"\n",
    "\n",
    "print (a)\n",
    "print (b)\n",
    "print (c)"
   ]
  },
  {
   "cell_type": "markdown",
   "metadata": {},
   "source": [
    "If we want to assign the same value to **multiple**/**chained** variables at once, we can do this as:"
   ]
  },
  {
   "cell_type": "code",
   "execution_count": 8,
   "metadata": {
    "ExecuteTime": {
     "end_time": "2021-06-22T15:13:31.859793Z",
     "start_time": "2021-06-22T15:13:31.850029Z"
    }
   },
   "outputs": [
    {
     "name": "stdout",
     "output_type": "stream",
     "text": [
      "same\n",
      "same\n",
      "same\n"
     ]
    }
   ],
   "source": [
    "x = y = z = \"same\"\n",
    "\n",
    "print (x)\n",
    "print (y)\n",
    "print (z)"
   ]
  },
  {
   "cell_type": "markdown",
   "metadata": {},
   "source": [
    "The second program assigns the **`same`** string to all the three variables **`x`**, **`y`** and **`z`**."
   ]
  },
  {
   "cell_type": "code",
   "execution_count": 9,
   "metadata": {
    "ExecuteTime": {
     "end_time": "2021-06-22T15:13:40.355440Z",
     "start_time": "2021-06-22T15:13:40.336889Z"
    }
   },
   "outputs": [
    {
     "name": "stdout",
     "output_type": "stream",
     "text": [
      "300 300 300\n"
     ]
    }
   ],
   "source": [
    "p = q = r = 300   # Assigning value together\n",
    "print(p, q, r)    # Printing value together"
   ]
  },
  {
   "cell_type": "markdown",
   "metadata": {},
   "source": [
    "# 2. Constants\n",
    "\n",
    "A constant is a type of variable whose value cannot be changed. It is helpful to think of constants as containers that hold information which cannot be changed later.\n",
    "\n",
    "You can think of constants as a bag to store some books which cannot be replaced once placed inside the bag."
   ]
  },
  {
   "cell_type": "markdown",
   "metadata": {},
   "source": [
    "### Assigning value to constant in Python\n",
    "\n",
    "In Python, constants are usually declared and assigned in a module. Here, the module is a new file containing variables, functions, etc which is imported to the main file. Inside the module, constants are written in all capital letters and underscores separating the words."
   ]
  },
  {
   "cell_type": "markdown",
   "metadata": {},
   "source": [
    "#### Example 1: Declaring and assigning value to a constant\n",
    "\n",
    "Create a **constant.py**:\n",
    "\n",
    "```python\n",
    ">>>PI = 3.14\n",
    ">>>GRAVITY = 9.8\n",
    "```\n",
    "\n",
    "Create a **main.py**:\n",
    "\n",
    "```python\n",
    ">>>import constant\n",
    ">>>print(constant.PI)\n",
    ">>>print(constant.GRAVITY)\n",
    "\n",
    "3.14\n",
    "9.8\n",
    "```\n",
    "\n",
    "In the above program, we create a **constant.py** module file. Then, we assign the constant value to **`PI`** and **`GRAVITY`**. After that, we create a **main.py** file and import the **`constant`** module. Finally, we print the constant value.\n",
    "\n",
    "> **Note**: In reality, we don't use constants in Python. Naming them in all capital letters is a convention to separate them from variables, however, it does not actually prevent reassignment."
   ]
  },
  {
   "cell_type": "markdown",
   "metadata": {},
   "source": [
    "## Rules and Naming Convention for Variables and constants\n",
    "\n",
    "The examples you have seen so far have used **short**, terse variable names like m and n. But variable names can be more **verbose**. In fact, it is usually beneficial if they are because it makes the purpose of the variable more evident at first glance. \n",
    "\n",
    "1. Constant and variable names should have a combination of letters in lowercase (a to z) or uppercase (**A to Z**) or digits (**0 to 9**) or an underscore **`_`**. For example:\n",
    "\n",
    "```python\n",
    "snake_case\n",
    "MACRO_CASE\n",
    "camelCase\n",
    "CapWords\n",
    "```\n",
    "\n",
    "2. Create a name that makes sense. For example, **`vowel`** makes more sense than **`v`**.\n",
    "\n",
    "3. If you want to create a variable name having two words, use underscore to separate them. For example:\n",
    "\n",
    "```python\n",
    "my_name\n",
    "current_salary\n",
    "```\n",
    "\n",
    "4. Use capital letters possible to declare a constant. For example:\n",
    "\n",
    "```python\n",
    "PI\n",
    "G\n",
    "MASS\n",
    "SPEED_OF_LIGHT\n",
    "TEMP\n",
    "```\n",
    "\n",
    "5. Never use special symbols like **!**, **@**, **#**, **$** <b> % </b>, etc.\n",
    "\n",
    "6. Don't start a variable name with a digit.\n",
    "\n",
    ">**Note**: One of the additions to Python 3 was full Unicode support, which allows for **Unicode** characters in a variable name as well. You will learn about Unicode in greater depth in a future tutorial."
   ]
  },
  {
   "cell_type": "markdown",
   "metadata": {},
   "source": [
    "For example, all of the following are valid variable names:\n",
    "\n",
    "```python\n",
    ">>>name = \"Bob\"\n",
    ">>>Age = 54\n",
    ">>>has_W2 = True\n",
    ">>>print(name, Age, has_W2)\n",
    "\n",
    "Bob 54 True\n",
    "```"
   ]
  },
  {
   "cell_type": "code",
   "execution_count": 10,
   "metadata": {
    "ExecuteTime": {
     "end_time": "2021-06-22T15:14:32.255646Z",
     "start_time": "2021-06-22T15:14:32.246862Z"
    }
   },
   "outputs": [
    {
     "name": "stdout",
     "output_type": "stream",
     "text": [
      "Bob 54 True\n"
     ]
    }
   ],
   "source": [
    "name = \"Bob\"\n",
    "Age = 54\n",
    "has_W2 = True\n",
    "print(name, Age, has_W2)"
   ]
  },
  {
   "cell_type": "markdown",
   "metadata": {},
   "source": [
    "But this one is not, because a variable name can’t begin with a digit:\n",
    "\n",
    "```python\n",
    ">>>1099_filed = False\n",
    "\n",
    "File \"<ipython-input-1-f818ff7027c6>\", line 1\n",
    "    1099_filed = False  # cannot start name of a variable with a number.\n",
    "        ^\n",
    "SyntaxError: invalid decimal literal\n",
    "```"
   ]
  },
  {
   "cell_type": "code",
   "execution_count": 11,
   "metadata": {
    "ExecuteTime": {
     "end_time": "2021-06-22T15:14:38.991419Z",
     "start_time": "2021-06-22T15:14:38.975797Z"
    },
    "scrolled": true
   },
   "outputs": [
    {
     "ename": "SyntaxError",
     "evalue": "invalid decimal literal (<ipython-input-11-8cc0f1bdc5ed>, line 1)",
     "output_type": "error",
     "traceback": [
      "\u001b[1;36m  File \u001b[1;32m\"<ipython-input-11-8cc0f1bdc5ed>\"\u001b[1;36m, line \u001b[1;32m1\u001b[0m\n\u001b[1;33m    1099_filed = False    # cannot start name of a variable with a number.\u001b[0m\n\u001b[1;37m        ^\u001b[0m\n\u001b[1;31mSyntaxError\u001b[0m\u001b[1;31m:\u001b[0m invalid decimal literal\n"
     ]
    }
   ],
   "source": [
    "1099_filed = False    # cannot start name of a variable with a number."
   ]
  },
  {
   "cell_type": "markdown",
   "metadata": {},
   "source": [
    "Note that case is **significant**. Lowercase and uppercase letters are not the same. Use of the underscore character is significant as well. Each of the following defines a different variable:\n",
    "\n",
    "```python\n",
    ">>>age = 1\n",
    ">>>Age = 2\n",
    ">>>aGe = 3\n",
    ">>>AGE = 4\n",
    ">>>a_g_e = 5\n",
    ">>>_age = 6\n",
    ">>>age_ = 7\n",
    ">>>AGe = 8\n",
    ">>>print(age, Age, aGe, AGE, a_g_e, age, age, AGe)\n",
    "\n",
    "1 2 3 4 5 6 7 8 \n",
    "```\n",
    "There is nothing stopping you from creating two different variables in the same program called age and Age, or for that matter agE. But it is probably **ill-advised**. It would certainly be likely to confuse anyone trying to read your code, and even you yourself, after you’d been away from it awhile."
   ]
  },
  {
   "cell_type": "code",
   "execution_count": 12,
   "metadata": {
    "ExecuteTime": {
     "end_time": "2021-06-22T15:14:52.229057Z",
     "start_time": "2021-06-22T15:14:52.208550Z"
    }
   },
   "outputs": [
    {
     "name": "stdout",
     "output_type": "stream",
     "text": [
      "1 2 3 4 5 1 1 8\n"
     ]
    }
   ],
   "source": [
    "age = 1\n",
    "Age = 2\n",
    "aGe = 3\n",
    "AGE = 4\n",
    "a_g_e = 5\n",
    "_age = 6\n",
    "age_ = 7\n",
    "AGe = 8\n",
    "print(age, Age, aGe, AGE, a_g_e, age, age, AGe)"
   ]
  },
  {
   "cell_type": "markdown",
   "metadata": {},
   "source": [
    "## Variable Types in Python\n",
    "\n",
    "In many programming languages, variables are **statically typed**. That means a variable is initially **declared** to have a specific data type, and any value assigned to it during its **lifetime** must always have that **type**. \n",
    "\n",
    "Variables in Python are not subject to this restriction. In Python, a variable may be assigned a value of one type and then later re-assigned a value of a different type:\n",
    "\n",
    "```python\n",
    ">>>var = 63.5\n",
    ">>>print(var)\n",
    "\n",
    "63.5\n",
    "```\n",
    "or\n",
    "```python\n",
    ">>>var = \"Now I'm a string\"\n",
    ">>>print(var)\n",
    "\n",
    "Now I'm a string\n",
    "```"
   ]
  },
  {
   "cell_type": "code",
   "execution_count": 13,
   "metadata": {
    "ExecuteTime": {
     "end_time": "2021-06-22T15:14:59.162593Z",
     "start_time": "2021-06-22T15:14:59.145016Z"
    }
   },
   "outputs": [
    {
     "name": "stdout",
     "output_type": "stream",
     "text": [
      "63.5\n"
     ]
    }
   ],
   "source": [
    "var = 63.5\n",
    "print(var)"
   ]
  },
  {
   "cell_type": "code",
   "execution_count": 14,
   "metadata": {
    "ExecuteTime": {
     "end_time": "2021-06-22T15:14:59.915569Z",
     "start_time": "2021-06-22T15:14:59.904828Z"
    }
   },
   "outputs": [
    {
     "name": "stdout",
     "output_type": "stream",
     "text": [
      "Now I'm a string\n"
     ]
    }
   ],
   "source": [
    "var = \"Now I'm a string\"\n",
    "print(var)"
   ]
  },
  {
   "cell_type": "markdown",
   "metadata": {},
   "source": [
    "## Object References\n",
    "\n",
    "What is actually happening when you make a **variable assignment?** This is an important question in Python, because the answer differs some what from what you’d find in many other programming languages. \n",
    "\n",
    "Python is a highly **object-oriented language**. In fact, virtually every item of data in a Python program is an **object of a specific type or class**. (This point will be reiterated many times over the course of these tutorials.)\n",
    "\n",
    "Consider this code:\n",
    "\n",
    "```python\n",
    ">>>print(300)\n",
    "\n",
    "300\n",
    "```"
   ]
  },
  {
   "cell_type": "code",
   "execution_count": 15,
   "metadata": {
    "ExecuteTime": {
     "end_time": "2021-06-22T15:15:06.778301Z",
     "start_time": "2021-06-22T15:15:06.769513Z"
    },
    "scrolled": true
   },
   "outputs": [
    {
     "name": "stdout",
     "output_type": "stream",
     "text": [
      "300\n"
     ]
    }
   ],
   "source": [
    "print(300)"
   ]
  },
  {
   "cell_type": "markdown",
   "metadata": {},
   "source": [
    "When presented with the statement **`print(300)`**, the interpreter does the following:\n",
    "<b>\n",
    "    \n",
    "* Creates an integer object \n",
    "* Gives it the value 300\n",
    "* Displays it to the console\n",
    "</b>\n",
    "\n",
    "You can see that an integer object is created using the **built-in type()** function:\n",
    "\n",
    "```python\n",
    ">>>type(300)\n",
    "\n",
    "int\n",
    "```"
   ]
  },
  {
   "cell_type": "code",
   "execution_count": 16,
   "metadata": {
    "ExecuteTime": {
     "end_time": "2021-06-22T15:15:10.018247Z",
     "start_time": "2021-06-22T15:15:10.002624Z"
    }
   },
   "outputs": [
    {
     "data": {
      "text/plain": [
       "int"
      ]
     },
     "execution_count": 16,
     "metadata": {},
     "output_type": "execute_result"
    }
   ],
   "source": [
    "type(300)  # identify type of the value"
   ]
  },
  {
   "cell_type": "markdown",
   "metadata": {},
   "source": [
    "A Python variable is a symbolic name that is a **reference or pointer** to an object. Once an object is assigned to a variable, you can refer to the object by that name. But the data itself is still contained within the object. \n",
    "For example:\n",
    "\n",
    "```python\n",
    ">>>n = 300\n",
    "```"
   ]
  },
  {
   "cell_type": "code",
   "execution_count": 17,
   "metadata": {
    "ExecuteTime": {
     "end_time": "2021-06-22T15:15:12.701029Z",
     "start_time": "2021-06-22T15:15:12.683453Z"
    }
   },
   "outputs": [],
   "source": [
    "n = 300"
   ]
  },
  {
   "cell_type": "markdown",
   "metadata": {},
   "source": [
    "This assignment creates an integer object with the value 300 and assigns the variable n to point to that object.\n",
    "\n",
    "<div>\n",
    "<img src=\"img/v10.png\" width=\"200\"/>\n",
    "</div>"
   ]
  },
  {
   "cell_type": "markdown",
   "metadata": {},
   "source": [
    "The following code verifies that n points to an integer object:\n",
    "\n",
    "```python\n",
    ">>>print(n)\n",
    "\n",
    "300\n",
    "```\n",
    "or\n",
    "```python\n",
    ">>>type(n)\n",
    "\n",
    "int\n",
    "```"
   ]
  },
  {
   "cell_type": "code",
   "execution_count": 18,
   "metadata": {
    "ExecuteTime": {
     "end_time": "2021-06-22T15:15:16.934692Z",
     "start_time": "2021-06-22T15:15:16.914185Z"
    }
   },
   "outputs": [
    {
     "name": "stdout",
     "output_type": "stream",
     "text": [
      "300\n"
     ]
    }
   ],
   "source": [
    "print(n)"
   ]
  },
  {
   "cell_type": "code",
   "execution_count": 19,
   "metadata": {
    "ExecuteTime": {
     "end_time": "2021-06-22T15:15:17.625164Z",
     "start_time": "2021-06-22T15:15:17.612471Z"
    }
   },
   "outputs": [
    {
     "data": {
      "text/plain": [
       "int"
      ]
     },
     "execution_count": 19,
     "metadata": {},
     "output_type": "execute_result"
    }
   ],
   "source": [
    "type(n)"
   ]
  },
  {
   "cell_type": "markdown",
   "metadata": {},
   "source": [
    "Now consider the following statement:\n",
    "\n",
    "```python\n",
    ">>>m=n\n",
    "```"
   ]
  },
  {
   "cell_type": "code",
   "execution_count": 20,
   "metadata": {
    "ExecuteTime": {
     "end_time": "2021-06-22T15:15:21.038459Z",
     "start_time": "2021-06-22T15:15:21.025767Z"
    }
   },
   "outputs": [],
   "source": [
    "m=n"
   ]
  },
  {
   "cell_type": "markdown",
   "metadata": {},
   "source": [
    "What happens when it is executed? Python does not create another object. It simply creates a new symbolic name or reference, m, which points to the same object that n points to.\n",
    "\n",
    "<div>\n",
    "<img src=\"img/v13.png\" width=\"300\"/>\n",
    "</div>\n",
    "\n",
    "Next, suppose you do this:\n",
    "\n",
    "```python\n",
    ">>>m=400\n",
    "```"
   ]
  },
  {
   "cell_type": "code",
   "execution_count": 21,
   "metadata": {
    "ExecuteTime": {
     "end_time": "2021-06-22T15:15:23.556195Z",
     "start_time": "2021-06-22T15:15:23.538617Z"
    }
   },
   "outputs": [],
   "source": [
    "m=400"
   ]
  },
  {
   "cell_type": "markdown",
   "metadata": {},
   "source": [
    "Now Python creates a new integer object with the value 400, and m becomes a reference to it.\n",
    "\n",
    "<div>\n",
    "<img src=\"img/v15.png\" width=\"300\"/>\n",
    "</div>\n",
    "\n",
    "Lastly, suppose this statement is executed next:\n",
    "\n",
    "```python\n",
    ">>>n=\"foo\"\n",
    "```"
   ]
  },
  {
   "cell_type": "code",
   "execution_count": 22,
   "metadata": {
    "ExecuteTime": {
     "end_time": "2021-06-22T15:15:35.953447Z",
     "start_time": "2021-06-22T15:15:35.949541Z"
    }
   },
   "outputs": [],
   "source": [
    "n=\"foo\""
   ]
  },
  {
   "cell_type": "markdown",
   "metadata": {},
   "source": [
    "Now Python creates a string object with the value \"foo\" and makes n reference that.\n",
    "\n",
    "<div>\n",
    "<img src=\"img/v17.png\" width=\"300\"/>\n",
    "</div>\n",
    "\n",
    "There is **no longer any reference** to the integer object 300. It is orphaned, and there is no way to access it. \n",
    "\n",
    "When the number of references to an object drops to zero, it is no longer accessible. At that point, its lifetime is over. Python will eventually notice that it is **inaccessible** and **reclaim** the allocated memory so it can be used for something else. In computer lingo, this process is referred to as **garbage collection**."
   ]
  },
  {
   "cell_type": "markdown",
   "metadata": {},
   "source": [
    "## Printing Variables in Python"
   ]
  },
  {
   "cell_type": "markdown",
   "metadata": {},
   "source": [
    "### Printing Single Variable in Python 3\n",
    "\n",
    "Since Python 3 uses **`print()`** function, the variable has to be enclosed by round brackets in the print statement mandatorily. If not, the compiler will throw an error."
   ]
  },
  {
   "cell_type": "code",
   "execution_count": 23,
   "metadata": {
    "ExecuteTime": {
     "end_time": "2021-06-22T15:15:58.547139Z",
     "start_time": "2021-06-22T15:15:58.527611Z"
    }
   },
   "outputs": [
    {
     "name": "stdout",
     "output_type": "stream",
     "text": [
      "10\n",
      "102.2\n",
      "9\n",
      "Hello World\n"
     ]
    }
   ],
   "source": [
    "#printing single integer variable\n",
    "\n",
    "num1 = 10\n",
    "print (num1)\n",
    "print (num1 + 92.2)   # variable type and type of the value adding to varible should be same.\n",
    "print (\"9\")    # \"9\" is not a number it is a string because it is inside \" \" (double quotes)\n",
    "print (\"Hello World\")"
   ]
  },
  {
   "cell_type": "markdown",
   "metadata": {},
   "source": [
    "### Printing Multiple Variables in Python 3\n",
    "\n",
    "To print multiple variables in Python 3, variable names have to enclosed within round brackets and mentioned as comma-separated. This is again mandatory."
   ]
  },
  {
   "cell_type": "code",
   "execution_count": 24,
   "metadata": {
    "ExecuteTime": {
     "end_time": "2021-06-22T15:16:02.036619Z",
     "start_time": "2021-06-22T15:16:02.022947Z"
    }
   },
   "outputs": [
    {
     "name": "stdout",
     "output_type": "stream",
     "text": [
      "30 60\n",
      "5 7 Null\n",
      "Hello World how're you doing?\n"
     ]
    }
   ],
   "source": [
    "#printing single integer variable\n",
    "\n",
    "num1, num2 = 30, 60\n",
    "print (num1, num2)\n",
    "print (\"5\", \"7\", \"Null\")\n",
    "print (\"Hello World\", \"how're you doing?\")"
   ]
  },
  {
   "cell_type": "markdown",
   "metadata": {},
   "source": [
    "In Python 3, if we enclose the above variables within one more round brackets in the print function, then those two variables are considered as tuples and printed as shown below."
   ]
  },
  {
   "cell_type": "code",
   "execution_count": 25,
   "metadata": {
    "ExecuteTime": {
     "end_time": "2021-06-22T15:16:36.574899Z",
     "start_time": "2021-06-22T15:16:36.555369Z"
    }
   },
   "outputs": [
    {
     "name": "stdout",
     "output_type": "stream",
     "text": [
      "(30, 60)\n",
      "('5', '7', 'Null')\n",
      "('Hello World', \"how're you doing?\")\n"
     ]
    }
   ],
   "source": [
    "#printing single integer variable\n",
    "\n",
    "num1, num2 = 30, 60\n",
    "print ((num1, num2))\n",
    "print ((\"5\", \"7\", \"Null\"))\n",
    "print ((\"Hello World\", \"how're you doing?\"))"
   ]
  },
  {
   "cell_type": "code",
   "execution_count": null,
   "metadata": {},
   "outputs": [],
   "source": []
  }
 ],
 "metadata": {
  "hide_input": false,
  "kernelspec": {
   "display_name": "Python 3",
   "language": "python",
   "name": "python3"
  },
  "language_info": {
   "codemirror_mode": {
    "name": "ipython",
    "version": 3
   },
   "file_extension": ".py",
   "mimetype": "text/x-python",
   "name": "python",
   "nbconvert_exporter": "python",
   "pygments_lexer": "ipython3",
   "version": "3.8.8"
  },
  "toc": {
   "base_numbering": 1,
   "nav_menu": {},
   "number_sections": true,
   "sideBar": true,
   "skip_h1_title": false,
   "title_cell": "Table of Contents",
   "title_sidebar": "Contents",
   "toc_cell": false,
   "toc_position": {},
   "toc_section_display": true,
   "toc_window_display": false
  },
  "varInspector": {
   "cols": {
    "lenName": 16,
    "lenType": 16,
    "lenVar": 40
   },
   "kernels_config": {
    "python": {
     "delete_cmd_postfix": "",
     "delete_cmd_prefix": "del ",
     "library": "var_list.py",
     "varRefreshCmd": "print(var_dic_list())"
    },
    "r": {
     "delete_cmd_postfix": ") ",
     "delete_cmd_prefix": "rm(",
     "library": "var_list.r",
     "varRefreshCmd": "cat(var_dic_list()) "
    }
   },
   "types_to_exclude": [
    "module",
    "function",
    "builtin_function_or_method",
    "instance",
    "_Feature"
   ],
   "window_display": false
  }
 },
 "nbformat": 4,
 "nbformat_minor": 2
}

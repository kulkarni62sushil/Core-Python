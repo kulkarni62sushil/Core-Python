{
 "cells": [
  {
   "cell_type": "markdown",
   "metadata": {},
   "source": [
    "<small><small><i>\n",
    "All the IPython Notebooks in **Python Introduction** lecture series by Dr. Milaan Parmar are available @ **[GitHub](https://github.com/milaan9/01_Python_Introduction)**\n",
    "</i></small></small>"
   ]
  },
  {
   "cell_type": "markdown",
   "metadata": {},
   "source": [
    "# Python Data Types\n",
    "\n",
    "In this class, you will learn about different data types you can use in Python."
   ]
  },
  {
   "cell_type": "markdown",
   "metadata": {},
   "source": [
    "## Data types in Python\n",
    "\n",
    "Every value in Python has a datatype. Since everything is an object in Python programming, data types are actually classes and variables are instance (object) of these classes.\n",
    "\n",
    "There are various data types in Python. Some of the important types are listed below."
   ]
  },
  {
   "cell_type": "markdown",
   "metadata": {},
   "source": [
    "## 1. Python Numbers\n",
    "\n",
    "Integers, floating point numbers and complex numbers fall under **[Python numbers](https://github.com/milaan9/02_Python_Datatypes/blob/main/001_Python_Numbers.ipynb)** category. They are defined as **`int`**, **`float`** and **`complex`** classes in Python.\n",
    "\n",
    "We can use the **`type()`** function to know which class a variable or a value belongs to. Similarly, the **`isinstance()`** function is used to check if an object belongs to a particular class."
   ]
  },
  {
   "cell_type": "code",
   "execution_count": 1,
   "metadata": {
    "ExecuteTime": {
     "end_time": "2021-06-22T16:25:38.407873Z",
     "start_time": "2021-06-22T16:25:38.386395Z"
    },
    "scrolled": true
   },
   "outputs": [
    {
     "name": "stdout",
     "output_type": "stream",
     "text": [
      "6 is of type <class 'int'>\n",
      "6 is integer number? True\n",
      "3.0 is of type <class 'float'>\n",
      "3.0 is float number? True\n",
      "(1+2j) is of type <class 'complex'>\n",
      "(1+2j) is complex number? True\n"
     ]
    }
   ],
   "source": [
    "a = 6\n",
    "print(a, \"is of type\", type(a))\n",
    "print(a, \"is integer number?\", isinstance(5,int))\n",
    "\n",
    "a = 3.0\n",
    "print(a, \"is of type\", type(a))\n",
    "print(a, \"is float number?\", isinstance(2.0,float))\n",
    "\n",
    "a = 1+2j  # '1' is real part and '2j' is imaginary part\n",
    "print(a, \"is of type\", type(a))\n",
    "print(a, \"is complex number?\", isinstance(1+2j,complex))"
   ]
  },
  {
   "cell_type": "markdown",
   "metadata": {},
   "source": [
    "Integers can be of any length, it is only limited by the memory available.\n",
    "\n",
    "A floating-point number is accurate up to 15 decimal places. Integer and floating points are separated by decimal points. **`1`** is an integer, **`1.0`** is a floating-point number.\n",
    "\n",
    "Complex numbers are written in the form, **`x + yj`**, where **`x`** is the real part and **`y`** is the imaginary part. Here are some examples."
   ]
  },
  {
   "cell_type": "code",
   "execution_count": 2,
   "metadata": {
    "ExecuteTime": {
     "end_time": "2021-06-22T16:25:39.332676Z",
     "start_time": "2021-06-22T16:25:39.321936Z"
    },
    "scrolled": true
   },
   "outputs": [
    {
     "name": "stdout",
     "output_type": "stream",
     "text": [
      "1234567890123456789\n",
      "0.12345678901234568\n",
      "(1+2j)\n"
     ]
    }
   ],
   "source": [
    "a = 1234567890123456789\n",
    "print (a)\n",
    "\n",
    "b = 0.1234567890123456789  # total of only 17 numbers after decimal can be printed.\n",
    "print (b)\n",
    "\n",
    "c = 1+2j\n",
    "print (c)"
   ]
  },
  {
   "cell_type": "markdown",
   "metadata": {},
   "source": [
    "Notice that the **`float`** variable **`b`** got truncated."
   ]
  },
  {
   "cell_type": "markdown",
   "metadata": {},
   "source": [
    "## 2. Python List `[]`\n",
    "\n",
    "**[List](https://github.com/milaan9/02_Python_Datatypes/blob/main/003_Python_List.ipynb)** is an **ordered sequence** of items. It is one of the most used datatype in Python and is very flexible. All the items in a list do not need to be of the same type.\n",
    "\n",
    "Declaring a list is pretty straight forward. Items separated by commas are enclosed within brackets **`[ ]`**.\n",
    "\n",
    "```python\n",
    ">>>a = [1, 3.3, 'python']\n",
    "```\n",
    "\n",
    "We can use the slicing operator **`[ ]`** to extract an item or a range of items from a list. The index starts from 0 in Python."
   ]
  },
  {
   "cell_type": "code",
   "execution_count": 3,
   "metadata": {
    "ExecuteTime": {
     "end_time": "2021-06-22T16:25:40.625633Z",
     "start_time": "2021-06-22T16:25:40.609034Z"
    }
   },
   "outputs": [
    {
     "name": "stdout",
     "output_type": "stream",
     "text": [
      "[6, 99, 77, 'Apple'] is of type <class 'list'>\n"
     ]
    }
   ],
   "source": [
    "x = [6, 99, 77, 'Apple']\n",
    "print(x, \"is of type\", type(x))"
   ]
  },
  {
   "cell_type": "code",
   "execution_count": 4,
   "metadata": {
    "ExecuteTime": {
     "end_time": "2021-06-22T16:25:41.058247Z",
     "start_time": "2021-06-22T16:25:41.037743Z"
    },
    "scrolled": true
   },
   "outputs": [
    {
     "name": "stdout",
     "output_type": "stream",
     "text": [
      "a[2] =  15\n",
      "a[0:3] =  [5, 10, 15]\n",
      "a[5:] =  [30, 35, 40]\n"
     ]
    }
   ],
   "source": [
    "a = [5,10,15,20,25,30,35,40]\n",
    "#   [0  1  2  3  4  5  6  7]\n",
    "\n",
    "# index '0' is element '1' = 5,\n",
    "# index '1' is element '2' = 10,\n",
    "# index '2' is element '3' = 15,\n",
    "# .\n",
    "# .\n",
    "# .\n",
    "# index '7' is element '8' = 40,\n",
    "\n",
    "a[1] # To access the elements in the list\n",
    "    \n",
    "# a[2] = 15\n",
    "print(\"a[2] = \", a[2])\n",
    "\n",
    "# a[0:3] = [5, 10, 15]\n",
    "print(\"a[0:3] = \", a[0:3])  # [0:3] means elements from 0 uptil 2 index (not include last element)\n",
    "\n",
    "# a[5:] = [30, 35, 40]  # [5:] means all the elements from 5 till end\n",
    "print(\"a[5:] = \", a[5:])"
   ]
  },
  {
   "cell_type": "code",
   "execution_count": 5,
   "metadata": {
    "ExecuteTime": {
     "end_time": "2021-06-22T16:25:41.399067Z",
     "start_time": "2021-06-22T16:25:41.377585Z"
    }
   },
   "outputs": [
    {
     "data": {
      "text/plain": [
       "[10, 15, 20, 25, 30]"
      ]
     },
     "execution_count": 5,
     "metadata": {},
     "output_type": "execute_result"
    }
   ],
   "source": [
    "a[1:-2]"
   ]
  },
  {
   "cell_type": "markdown",
   "metadata": {},
   "source": [
    "Lists are **mutable**, meaning, the value of elements of a list can be altered."
   ]
  },
  {
   "cell_type": "code",
   "execution_count": 6,
   "metadata": {
    "ExecuteTime": {
     "end_time": "2021-06-22T16:25:42.139296Z",
     "start_time": "2021-06-22T16:25:42.129533Z"
    }
   },
   "outputs": [
    {
     "name": "stdout",
     "output_type": "stream",
     "text": [
      "[1, 2, 4]\n"
     ]
    }
   ],
   "source": [
    "# Change the element of the List\n",
    "a = [1, 2, 3]\n",
    "a[2] = 4  # Change my third element from '3' to '4' # [2] is the index number\n",
    "print(a)"
   ]
  },
  {
   "cell_type": "markdown",
   "metadata": {},
   "source": [
    "## 3. Python Tuple `()`\n",
    "\n",
    "**[Tuple](https://github.com/milaan9/02_Python_Datatypes/blob/main/004_Python_Tuple.ipynb)** is an **ordered sequence** of items same as a list. The only difference is that tuples are **immutable**. Tuples once created cannot be modified.\n",
    "\n",
    "Tuples are used to **write-protect data** and are usually faster than lists as they cannot change dynamically.\n",
    "\n",
    "It is defined within parentheses **`()`** where items are separated by commas.\n",
    "\n",
    "```python\n",
    ">>>t = (6,'program', 1+3j)\n",
    "```\n",
    "\n",
    "We can use the slicing operator **`[]`** to extract items but we cannot change its value."
   ]
  },
  {
   "cell_type": "code",
   "execution_count": 7,
   "metadata": {
    "ExecuteTime": {
     "end_time": "2021-06-22T16:25:43.124641Z",
     "start_time": "2021-06-22T16:25:42.770153Z"
    },
    "scrolled": false
   },
   "outputs": [
    {
     "name": "stdout",
     "output_type": "stream",
     "text": [
      "t[1] =  program\n",
      "t[0:3] =  (6, 'program', (1+3j))\n"
     ]
    },
    {
     "ename": "TypeError",
     "evalue": "'tuple' object does not support item assignment",
     "output_type": "error",
     "traceback": [
      "\u001b[1;31m---------------------------------------------------------------------------\u001b[0m",
      "\u001b[1;31mTypeError\u001b[0m                                 Traceback (most recent call last)",
      "\u001b[1;32m<ipython-input-7-fb3fbec4fb24>\u001b[0m in \u001b[0;36m<module>\u001b[1;34m\u001b[0m\n\u001b[0;32m     13\u001b[0m \u001b[1;31m# Generates error\u001b[0m\u001b[1;33m\u001b[0m\u001b[1;33m\u001b[0m\u001b[1;33m\u001b[0m\u001b[0m\n\u001b[0;32m     14\u001b[0m \u001b[1;31m# Tuples are immutable\u001b[0m\u001b[1;33m\u001b[0m\u001b[1;33m\u001b[0m\u001b[1;33m\u001b[0m\u001b[0m\n\u001b[1;32m---> 15\u001b[1;33m \u001b[0mt\u001b[0m\u001b[1;33m[\u001b[0m\u001b[1;36m0\u001b[0m\u001b[1;33m]\u001b[0m \u001b[1;33m=\u001b[0m \u001b[1;36m10\u001b[0m  \u001b[1;31m# trying to change element 0 from '6' to '10'\u001b[0m\u001b[1;33m\u001b[0m\u001b[1;33m\u001b[0m\u001b[0m\n\u001b[0m",
      "\u001b[1;31mTypeError\u001b[0m: 'tuple' object does not support item assignment"
     ]
    }
   ],
   "source": [
    "# Tuple 't' have 3 elements\n",
    "t = (6,'program', 1+3j) \n",
    "# index '0' is element '1'=6, \n",
    "# index '1' is element '2'=program, \n",
    "# index '2' is elemtnt '3'=1+3j\n",
    "\n",
    "# t[1] = 'program'\n",
    "print(\"t[1] = \", t[1])\n",
    "\n",
    "# t[0:3] = (6, 'program', (1+3j))\n",
    "print(\"t[0:3] = \", t[0:3])\n",
    "\n",
    "# Generates error\n",
    "# Tuples are immutable\n",
    "t[0] = 10  # trying to change element 0 from '6' to '10'"
   ]
  },
  {
   "cell_type": "markdown",
   "metadata": {},
   "source": [
    "## 4. Python Strings\n",
    "\n",
    "**[String](https://github.com/milaan9/02_Python_Datatypes/blob/main/002_Python_String.ipynb)** is sequence of Unicode characters. We can use single quotes or double quotes to represent strings. Multi-line strings can be denoted using triple quotes, **`'''`** or **`\"\"\"`**."
   ]
  },
  {
   "cell_type": "code",
   "execution_count": 8,
   "metadata": {
    "ExecuteTime": {
     "end_time": "2021-06-22T16:25:43.370734Z",
     "start_time": "2021-06-22T16:25:43.357062Z"
    }
   },
   "outputs": [
    {
     "name": "stdout",
     "output_type": "stream",
     "text": [
      "Apple\n",
      "Apple\n",
      "Apple\n",
      "Apple\n"
     ]
    }
   ],
   "source": [
    "s = '''Apple'''\n",
    "print(s)\n",
    "s = \"\"\"Apple\"\"\"\n",
    "print(s)\n",
    "s = 'Apple'\n",
    "print(s)\n",
    "s = \"Apple\"\n",
    "print(s)"
   ]
  },
  {
   "cell_type": "code",
   "execution_count": 9,
   "metadata": {
    "ExecuteTime": {
     "end_time": "2021-06-22T16:25:43.894163Z",
     "start_time": "2021-06-22T16:25:43.874635Z"
    }
   },
   "outputs": [
    {
     "name": "stdout",
     "output_type": "stream",
     "text": [
      "This is a string\n",
      "A multiline\n",
      "string\n"
     ]
    }
   ],
   "source": [
    "s = \"This is a string\"  # s is my variable\n",
    "print(s)\n",
    "s = '''A multiline\n",
    "string'''\n",
    "print(s)"
   ]
  },
  {
   "cell_type": "markdown",
   "metadata": {},
   "source": [
    "Just like a list and tuple, the slicing operator **`[ ]`** can be used with strings. Strings, however, are **immutable**."
   ]
  },
  {
   "cell_type": "code",
   "execution_count": 10,
   "metadata": {
    "ExecuteTime": {
     "end_time": "2021-06-22T16:25:44.402461Z",
     "start_time": "2021-06-22T16:25:44.385863Z"
    }
   },
   "outputs": [
    {
     "name": "stdout",
     "output_type": "stream",
     "text": [
      "s[4] =  o\n",
      "s[6:11] =  world\n"
     ]
    }
   ],
   "source": [
    "s = 'Hello world!' # total 12 elements. Index start from '0' to '11'\n",
    "\n",
    "# s[4] = 'o'\n",
    "print(\"s[4] = \", s[4])\n",
    "\n",
    "# s[6:11] = 'world' # index '6' to '11' means element from 6 to 10\n",
    "print(\"s[6:11] = \", s[6:11])\n"
   ]
  },
  {
   "cell_type": "markdown",
   "metadata": {},
   "source": [
    "## 5. Python Set `{}`\n",
    "\n",
    "**[Set](https://github.com/milaan9/02_Python_Datatypes/blob/main/006_Python_Sets.ipynb)** is an **unordered collection** of unique items. Set is defined by values separated by comma inside braces **`{ }`**. Items in a set are not ordered."
   ]
  },
  {
   "cell_type": "code",
   "execution_count": 11,
   "metadata": {
    "ExecuteTime": {
     "end_time": "2021-06-22T16:25:44.881465Z",
     "start_time": "2021-06-22T16:25:44.866817Z"
    }
   },
   "outputs": [
    {
     "name": "stdout",
     "output_type": "stream",
     "text": [
      "a =  {1, 3, 6, 7, 9}\n",
      "<class 'set'>\n"
     ]
    }
   ],
   "source": [
    "a = {7,1,3,6,9}\n",
    "\n",
    "# printing set variable\n",
    "print(\"a = \", a)\n",
    "\n",
    "# data type of variable a\n",
    "print(type(a))"
   ]
  },
  {
   "cell_type": "markdown",
   "metadata": {},
   "source": [
    "We can perform set operations like union, intersection on two sets. Sets have unique values. They eliminate duplicates."
   ]
  },
  {
   "cell_type": "code",
   "execution_count": 12,
   "metadata": {
    "ExecuteTime": {
     "end_time": "2021-06-22T16:25:45.561148Z",
     "start_time": "2021-06-22T16:25:45.553335Z"
    }
   },
   "outputs": [
    {
     "name": "stdout",
     "output_type": "stream",
     "text": [
      "{1, 2, 3}\n"
     ]
    }
   ],
   "source": [
    "a = {1,2,2,3,3,3} # we can see total 6 elements \n",
    "print(a)"
   ]
  },
  {
   "cell_type": "markdown",
   "metadata": {},
   "source": [
    "Since, set are unordered collection, indexing has no meaning. Hence, the slicing operator **`[]`** does not work."
   ]
  },
  {
   "cell_type": "code",
   "execution_count": 13,
   "metadata": {
    "ExecuteTime": {
     "end_time": "2021-06-22T16:25:46.194445Z",
     "start_time": "2021-06-22T16:25:46.177843Z"
    }
   },
   "outputs": [
    {
     "ename": "TypeError",
     "evalue": "'set' object is not subscriptable",
     "output_type": "error",
     "traceback": [
      "\u001b[1;31m---------------------------------------------------------------------------\u001b[0m",
      "\u001b[1;31mTypeError\u001b[0m                                 Traceback (most recent call last)",
      "\u001b[1;32m<ipython-input-13-242b77ef2a87>\u001b[0m in \u001b[0;36m<module>\u001b[1;34m\u001b[0m\n\u001b[0;32m      1\u001b[0m \u001b[0ma\u001b[0m \u001b[1;33m=\u001b[0m \u001b[1;33m{\u001b[0m\u001b[1;36m1\u001b[0m\u001b[1;33m,\u001b[0m\u001b[1;36m2\u001b[0m\u001b[1;33m,\u001b[0m\u001b[1;36m3\u001b[0m\u001b[1;33m}\u001b[0m  \u001b[1;31m# in Set data type we cannot access the elements because set is unordered collection\u001b[0m\u001b[1;33m\u001b[0m\u001b[1;33m\u001b[0m\u001b[0m\n\u001b[1;32m----> 2\u001b[1;33m \u001b[0ma\u001b[0m\u001b[1;33m[\u001b[0m\u001b[1;36m1\u001b[0m\u001b[1;33m]\u001b[0m  \u001b[1;31m# Index [1] means element 2\u001b[0m\u001b[1;33m\u001b[0m\u001b[1;33m\u001b[0m\u001b[0m\n\u001b[0m",
      "\u001b[1;31mTypeError\u001b[0m: 'set' object is not subscriptable"
     ]
    }
   ],
   "source": [
    "a = {1,2,3}  # in Set data type we cannot access the elements because set is unordered collection\n",
    "a[1]  # Index [1] means element 2"
   ]
  },
  {
   "cell_type": "markdown",
   "metadata": {},
   "source": [
    "## 6. Python Dictionary `{}`\n",
    "\n",
    "**[Dictionary](https://github.com/milaan9/02_Python_Datatypes/blob/main/005_Python_Dictionary.ipynb)** is an **unordered collection** of **key-value pairs**.\n",
    "\n",
    "It is generally used when we have a huge amount of data. Dictionaries are optimized for retrieving data. We must know the key to retrieve the value.\n",
    "\n",
    "In Python, dictionaries are defined within braces **`{}`** with each item being a pair in the form key:value. Key and value can be of any type."
   ]
  },
  {
   "cell_type": "code",
   "execution_count": 14,
   "metadata": {
    "ExecuteTime": {
     "end_time": "2021-06-22T16:25:46.703229Z",
     "start_time": "2021-06-22T16:25:46.683701Z"
    }
   },
   "outputs": [
    {
     "name": "stdout",
     "output_type": "stream",
     "text": [
      "{1: 'Apple', 2: 'Cat', 3: 'Food'} <class 'dict'>\n"
     ]
    },
    {
     "data": {
      "text/plain": [
       "'Food'"
      ]
     },
     "execution_count": 14,
     "metadata": {},
     "output_type": "execute_result"
    }
   ],
   "source": [
    "d = {1: 'Apple', 2: 'Cat', 3: 'Food'}  # 'Apple' is element and 1 is the key of element.\n",
    "print(d, type(d))\n",
    "\n",
    "d[3]"
   ]
  },
  {
   "cell_type": "code",
   "execution_count": 15,
   "metadata": {
    "ExecuteTime": {
     "end_time": "2021-06-22T16:25:47.349708Z",
     "start_time": "2021-06-22T16:25:47.337015Z"
    }
   },
   "outputs": [
    {
     "data": {
      "text/plain": [
       "dict"
      ]
     },
     "execution_count": 15,
     "metadata": {},
     "output_type": "execute_result"
    }
   ],
   "source": [
    "d = {1:'value','key':2} # d is my variable, 'value' and 'key' are the element and 1 and 2 are the key.\n",
    "type(d)"
   ]
  },
  {
   "cell_type": "markdown",
   "metadata": {},
   "source": [
    "We use key to retrieve the respective value. But not the other way around."
   ]
  },
  {
   "cell_type": "code",
   "execution_count": 16,
   "metadata": {
    "ExecuteTime": {
     "end_time": "2021-06-22T16:25:49.168057Z",
     "start_time": "2021-06-22T16:25:49.154386Z"
    }
   },
   "outputs": [
    {
     "name": "stdout",
     "output_type": "stream",
     "text": [
      "<class 'dict'>\n",
      "d[1] =  value\n",
      "d['key'] =  2\n"
     ]
    }
   ],
   "source": [
    "d = {1:'value','key':2} # '1' is the key to access 'value' and 'key' is the key to access '2'\n",
    "print(type(d))\n",
    "\n",
    "print(\"d[1] = \", d[1]); # try to find the element from key.\n",
    "\n",
    "print(\"d['key'] = \", d['key']);  # try to find the key from the element.\n"
   ]
  },
  {
   "cell_type": "code",
   "execution_count": null,
   "metadata": {},
   "outputs": [],
   "source": []
  }
 ],
 "metadata": {
  "hide_input": false,
  "kernelspec": {
   "display_name": "Python 3",
   "language": "python",
   "name": "python3"
  },
  "language_info": {
   "codemirror_mode": {
    "name": "ipython",
    "version": 3
   },
   "file_extension": ".py",
   "mimetype": "text/x-python",
   "name": "python",
   "nbconvert_exporter": "python",
   "pygments_lexer": "ipython3",
   "version": "3.8.8"
  },
  "toc": {
   "base_numbering": 1,
   "nav_menu": {},
   "number_sections": true,
   "sideBar": true,
   "skip_h1_title": false,
   "title_cell": "Table of Contents",
   "title_sidebar": "Contents",
   "toc_cell": false,
   "toc_position": {},
   "toc_section_display": true,
   "toc_window_display": false
  },
  "varInspector": {
   "cols": {
    "lenName": 16,
    "lenType": 16,
    "lenVar": 40
   },
   "kernels_config": {
    "python": {
     "delete_cmd_postfix": "",
     "delete_cmd_prefix": "del ",
     "library": "var_list.py",
     "varRefreshCmd": "print(var_dic_list())"
    },
    "r": {
     "delete_cmd_postfix": ") ",
     "delete_cmd_prefix": "rm(",
     "library": "var_list.r",
     "varRefreshCmd": "cat(var_dic_list()) "
    }
   },
   "types_to_exclude": [
    "module",
    "function",
    "builtin_function_or_method",
    "instance",
    "_Feature"
   ],
   "window_display": false
  }
 },
 "nbformat": 4,
 "nbformat_minor": 2
}
